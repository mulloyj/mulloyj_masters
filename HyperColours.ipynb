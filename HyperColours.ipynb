{
 "cells": [
  {
   "cell_type": "code",
   "execution_count": 1,
   "metadata": {},
   "outputs": [],
   "source": [
    "import galois\n",
    "import numpy as np\n",
    "import numpy.linalg as linalg\n",
    "import networkx as nx\n",
    "from networkx.algorithms import isomorphism as iso\n",
    "import itertools\n",
    "import sys\n",
    "\n",
    "np.set_printoptions(threshold=sys.maxsize)\n",
    "\n",
    "# got this from stack exchange\n",
    "def bmatrix(a):\n",
    "    \"\"\"Returns a LaTeX bmatrix\n",
    "\n",
    "    :a: numpy array\n",
    "    :returns: LaTeX bmatrix as a string\n",
    "    \"\"\"\n",
    "    if len(a.shape) > 2:\n",
    "        raise ValueError('bmatrix can at most display two dimensions')\n",
    "    lines = np.array2string(a, max_line_width=np.infty).replace('[', '').replace(']', '').splitlines()\n",
    "    rv = [r'\\begin{bmatrix}']\n",
    "    rv += ['  ' + ' & '.join(l.split()) + r' \\\\' for l in lines]\n",
    "    rv +=  [r'\\end{bmatrix}']\n",
    "    return '\\n'.join(rv)"
   ]
  },
  {
   "cell_type": "code",
   "execution_count": 2,
   "metadata": {},
   "outputs": [],
   "source": [
    "F = [[0,0,0,0],[1,0,1,1],[1,1,2,1],[1,2,3,3],[1,3,0,4],[0,0,0,0],[1,2,4,2]]\n",
    "G1 = [(1,2),(3,4),(1,3,5),(2,4,5),(1,4,5)]\n",
    "G2 = [(1,2),(3,4),(1,3,5),(2,4,5),(1,4,5),(2,3,5)]\n",
    "G3 = [(1,2),(1,3),(2,3),(1,4,5),(2,4,5),(3,4,5)]\n",
    "G4 = [(1,2,3),(1,2,4),(1,2,5),(1,3,4),(1,3,5),(1,4,5),(2,3,4),(2,3,5),(2,4,5)]"
   ]
  },
  {
   "cell_type": "code",
   "execution_count": 3,
   "metadata": {},
   "outputs": [],
   "source": [
    "def getLFSRandArray(q, m, coeff, I, GF):\n",
    "    k = int((q**m-1)/(q-1))  # number of columns in array\n",
    "    LFSR = GF.Zeros(q**m-1)\n",
    "\n",
    "    for i in range(0, len(I)):\n",
    "        LFSR[i] = I[i]\n",
    "\n",
    "    for i in range(m, q**m-1):\n",
    "        LFSR[i] = -coeff[1]*LFSR[i-1]-coeff[2]*LFSR[i-2]-coeff[3]*LFSR[i-3]\n",
    "\n",
    "    A = GF.Zeros((q**m, k))\n",
    "\n",
    "    for i in range(0, q**m-1):\n",
    "        A[i] = LFSR[0:k]\n",
    "        LFSR = np.roll(LFSR, q**m-2)\n",
    "\n",
    "    return ([LFSR, A])"
   ]
  },
  {
   "cell_type": "code",
   "execution_count": 4,
   "metadata": {},
   "outputs": [],
   "source": [
    "def getColumnVectors(q, m, A):\n",
    "    k = int((q**m-1)/(q-1))\n",
    "\n",
    "    vectors = []\n",
    "\n",
    "    for vector in A[0:k:, 0:m]:\n",
    "        vectors.append(vector)\n",
    "\n",
    "    return vectors"
   ]
  },
  {
   "cell_type": "code",
   "execution_count": 5,
   "metadata": {},
   "outputs": [],
   "source": [
    "def findIndicies(vectors, M):\n",
    "    \"\"\"\n",
    "    vectors - Set of vectors\n",
    "    M - Matrix where we want to know the indicies of the columns in vectors\n",
    "    \"\"\"\n",
    "    indicies = []\n",
    "\n",
    "    for vector in M.T:\n",
    "        indicies.append(np.flatnonzero((vector == vectors).all(1))[\n",
    "                        0])\n",
    "    return indicies\n",
    "\n",
    "\n",
    "def getLinIndependent(vectors, q, m, GF):\n",
    "    k = int((q**m-1)/(q-1))\n",
    "    LinIndep = []\n",
    "    LinDep = []\n",
    "    LinIndepArray = np.zeros((k,k,k))\n",
    "\n",
    "    for comb in itertools.combinations(vectors, m):\n",
    "        M = GF.Zeros((3,3))\n",
    "\n",
    "        for i in range(0, m):\n",
    "           M[:, i] = comb[i]\n",
    "\n",
    "        indices = findIndicies(vectors, M)\n",
    "\n",
    "        # if indicies == [0, 2, 18]:\n",
    "        #    print(M)\n",
    "        #    print(linalg.matrix_rank(M))\n",
    "\n",
    "        if linalg.matrix_rank(M) == m:\n",
    "          LinIndep.append(indices)\n",
    "\n",
    "          for perm in itertools.permutations(indices):\n",
    "            LinIndepArray[perm[0]][perm[1]][perm[2]] = 1\n",
    "        else:\n",
    "           LinDep.append(indices)\n",
    "\n",
    "    return [LinIndep, LinDep, LinIndepArray]"
   ]
  },
  {
   "cell_type": "code",
   "execution_count": 6,
   "metadata": {},
   "outputs": [],
   "source": [
    "def getArrayAccessStructure(LinIndepArray, q):\n",
    "    p = q**2 + q + 1\n",
    "    AS = []\n",
    "\n",
    "    for comb in itertools.combinations(np.arange(p),3):\n",
    "        if comb[0] == 0 and LinIndepArray[comb] == 0:\n",
    "            AS.append((comb[1],comb[2]))\n",
    "        \n",
    "        if comb[0] != 0 and LinIndepArray[comb] == 1:\n",
    "            break_loop = False\n",
    "            for comb2 in itertools.combinations(comb,2):\n",
    "                if LinIndepArray[comb2 + (0,)] == 0:\n",
    "                    break_loop = True\n",
    "\n",
    "            if not break_loop:\n",
    "                AS.append(comb)\n",
    "                    \n",
    "    return AS"
   ]
  },
  {
   "cell_type": "code",
   "execution_count": 7,
   "metadata": {},
   "outputs": [],
   "source": [
    "def splitStructure(structure):\n",
    "    size2 = []\n",
    "    size3 = []\n",
    "\n",
    "    for auth in structure:\n",
    "        if len(auth) == 2:\n",
    "            size2.append(auth)\n",
    "        else:\n",
    "            size3.append(auth)\n",
    "\n",
    "    return [size2,size3]"
   ]
  },
  {
   "cell_type": "code",
   "execution_count": 8,
   "metadata": {},
   "outputs": [],
   "source": [
    "def flatten(lst):\n",
    "    l = []\n",
    "    for elt in lst:\n",
    "        t = type(elt)\n",
    "        if t is tuple or t is list:\n",
    "            for elt2 in flatten(elt):\n",
    "                l.append(elt2)\n",
    "        else:\n",
    "            l.append(elt)\n",
    "    return sorted(set(l))"
   ]
  },
  {
   "cell_type": "code",
   "execution_count": 9,
   "metadata": {},
   "outputs": [],
   "source": [
    "def isAuth(P,structure):\n",
    "    for minAuth in structure:\n",
    "        if set(minAuth).issubset(set(P)):\n",
    "            return True\n",
    "    return False"
   ]
  },
  {
   "cell_type": "code",
   "execution_count": 10,
   "metadata": {},
   "outputs": [],
   "source": [
    "# Function that returns all unauthorized sets of size 2 and 3\n",
    "def getUnauth(structure):\n",
    "    n = max(flatten(structure))\n",
    "    unAuth = []\n",
    "\n",
    "    for comb in itertools.combinations(flatten(structure),2):\n",
    "        if not isAuth(comb,structure):\n",
    "            unAuth.append(comb)\n",
    "\n",
    "    for comb in itertools.combinations(flatten(structure),3):\n",
    "        if not isAuth(comb,structure):\n",
    "            unAuth.append(comb)\n",
    "\n",
    "    return unAuth"
   ]
  },
  {
   "cell_type": "code",
   "execution_count": 11,
   "metadata": {},
   "outputs": [],
   "source": [
    "def buildGraphsAS(arrayStructure, accessStructure):\n",
    "    ArrayUnauth = getUnauth(arrayStructure)\n",
    "    AccessUnauth = getUnauth(accessStructure)\n",
    "\n",
    "    arrayGraph = nx.Graph()\n",
    "    accessGraph = nx.Graph()\n",
    "\n",
    "\n",
    "    for auth in arrayStructure:\n",
    "        if len(auth) == 2:\n",
    "            arrayGraph.add_node(auth, color='green')\n",
    "        else:\n",
    "            arrayGraph.add_node(auth, color='yellow')\n",
    "\n",
    "        for node in auth:\n",
    "            arrayGraph.add_node(node, color='red')\n",
    "            arrayGraph.add_edge(node, auth)\n",
    "\n",
    "    for unauth in ArrayUnauth:\n",
    "        if len(unauth) == 2:\n",
    "            arrayGraph.add_node(unauth, color='blue')\n",
    "        else:\n",
    "            arrayGraph.add_node(unauth, color='purple')\n",
    "\n",
    "        for node in unauth:\n",
    "            arrayGraph.add_node(node, color='red')\n",
    "            arrayGraph.add_edge(node, unauth)\n",
    "\n",
    "    for auth in accessStructure:\n",
    "        if len(auth) == 2:\n",
    "            accessGraph.add_node(auth, color='green')\n",
    "        else:\n",
    "            accessGraph.add_node(auth, color='yellow')\n",
    "\n",
    "        for node in auth:\n",
    "            accessGraph.add_node(node, color='red')\n",
    "            accessGraph.add_edge(node, auth)\n",
    "\n",
    "    for unauth in AccessUnauth:\n",
    "        if len(unauth) == 2:\n",
    "            accessGraph.add_node(unauth, color='blue')\n",
    "        else:\n",
    "            accessGraph.add_node(unauth, color='purple')\n",
    "\n",
    "        for node in unauth:\n",
    "            accessGraph.add_node(node, color='red')\n",
    "            accessGraph.add_edge(node, unauth)\n",
    "\n",
    "\n",
    "    return [accessGraph, arrayGraph]"
   ]
  },
  {
   "cell_type": "code",
   "execution_count": 12,
   "metadata": {},
   "outputs": [],
   "source": [
    "def buildGraphsLD(p, q, m, StrLinIndep, StrLinDep, ALinIndep, ALinDep):\n",
    "    \"\"\"\n",
    "    p - number of participants\n",
    "    q - size of finite field\n",
    "    m - degree of polynomial\n",
    "    StrLinIndep - Array representing linear independence in access structure\n",
    "    StrLinDep - Array representing the linear dependence in access structure\n",
    "    ALinIndep - Array represeting linear independence in A\n",
    "    ALinDep - Array representing linear dependence in A\n",
    "    \"\"\"\n",
    "    k = int((q**m-1)/(q-1))\n",
    "    accessGraph = nx.Graph()\n",
    "    arrayGraph = nx.Graph()\n",
    "\n",
    "    accessGraph.add_node(0, color='red')\n",
    "    arrayGraph.add_node(0, color='red')\n",
    "\n",
    "    for i in range(1, p+1):\n",
    "        accessGraph.add_node(i, color='purple')\n",
    "\n",
    "    for i in range(1, k):\n",
    "        arrayGraph.add_node(i, color='purple')\n",
    "\n",
    "    for indep in tuple(map(tuple,StrLinIndep)):\n",
    "        accessGraph.add_node(indep, color='blue')\n",
    "        for node in indep:\n",
    "            accessGraph.add_edge(node, indep)\n",
    "\n",
    "    for dep in tuple(map(tuple,StrLinDep)):\n",
    "        accessGraph.add_node(dep, color='yellow')\n",
    "        for node in dep:\n",
    "            accessGraph.add_edge(node, dep)\n",
    "\n",
    "    for indep in tuple(map(tuple, ALinIndep)):\n",
    "        arrayGraph.add_node(indep, color='blue')\n",
    "        for node in indep:\n",
    "            arrayGraph.add_edge(node, indep)\n",
    "\n",
    "    for dep in tuple(map(tuple, ALinDep)):\n",
    "        arrayGraph.add_node(dep, color='yellow')\n",
    "        for node in dep:\n",
    "            arrayGraph.add_edge(node, dep)\n",
    "\n",
    "    return [accessGraph, arrayGraph]"
   ]
  },
  {
   "cell_type": "code",
   "execution_count": 13,
   "metadata": {},
   "outputs": [],
   "source": [
    "def computeAccessStructure(AccessStr, p):\n",
    "    parties = list(range(1, p+1))\n",
    "    AccessStrLinIndep = []\n",
    "    AccessStrLinDep = []\n",
    "    for comb in itertools.combinations(parties, 2):\n",
    "        if comb in AccessStr:\n",
    "          AccessStrLinDep.append((0,) + comb)\n",
    "        else:\n",
    "           AccessStrLinIndep.append((0,) + comb)\n",
    "\n",
    "    for comb in itertools.combinations(parties,3):\n",
    "        AccessStrLinDep.append(comb)\n",
    "\n",
    "    for set in AccessStr:\n",
    "        if len(set) == 2:\n",
    "            for per in parties:\n",
    "              if per not in set:\n",
    "                new_tup = tuple(sorted((per,) + set))\n",
    "                for comb in itertools.combinations(new_tup,2):\n",
    "                  if comb not in AccessStr and new_tup in AccessStrLinDep:\n",
    "                    AccessStrLinIndep.append(new_tup)\n",
    "                    AccessStrLinDep.remove(new_tup)\n",
    "                    break\n",
    "\n",
    "        if len(set) == 3:\n",
    "            AccessStrLinIndep.append(set)\n",
    "            AccessStrLinDep.remove(set)\n",
    "\n",
    "    return [AccessStrLinIndep, AccessStrLinDep]"
   ]
  },
  {
   "cell_type": "code",
   "execution_count": 14,
   "metadata": {},
   "outputs": [],
   "source": [
    "def setupAS(q, GF, m, I, coeff, AccessStr, p):\n",
    "    [LFSR, A] = getLFSRandArray(q,m,coeff,I,GF)\n",
    "\n",
    "    vectors = getColumnVectors(q,m,A)\n",
    "\n",
    "    [LinIndep, LinDep, LinIndepArray] = getLinIndependent(vectors, q, m, GF)\n",
    "    arrayStructure = getArrayAccessStructure(LinIndepArray,q)\n",
    "\n",
    "    [AccessStrLinIndep, AccessStrLinDep] = computeAccessStructure(AccessStr, p)\n",
    "\n",
    "    [AccessStrGraph, ArrayGraph] = buildGraphsAS(arrayStructure,AccessStr)\n",
    "    \n",
    "    return [LinIndep, LinIndepArray, AccessStrLinIndep, AccessStrLinDep, AccessStrGraph, ArrayGraph]"
   ]
  },
  {
   "cell_type": "code",
   "execution_count": 15,
   "metadata": {},
   "outputs": [],
   "source": [
    "def setupLD(q, GF, m, I, coeff, AccessStr, p):\n",
    "    [LFSR, A] = getLFSRandArray(q,m,coeff,I,GF)\n",
    "\n",
    "    vectors = getColumnVectors(q,m,A)\n",
    "\n",
    "    [LinIndep, LinDep, LinIndepArray] = getLinIndependent(vectors, q, m, GF)\n",
    "\n",
    "    [AccessStrLinIndep, AccessStrLinDep] = computeAccessStructure(AccessStr, p)\n",
    "\n",
    "    [AccessStrGraph, ArrayGraph] = buildGraphsLD(p,q,3,AccessStrLinIndep,AccessStrLinDep,LinIndep,LinDep)\n",
    "    \n",
    "    return [LinIndep, LinIndepArray, AccessStrLinIndep, AccessStrLinDep, AccessStrGraph, ArrayGraph]"
   ]
  },
  {
   "cell_type": "code",
   "execution_count": 16,
   "metadata": {},
   "outputs": [],
   "source": [
    "def colors_match(n1_attrib,n2_attrib):\n",
    "    '''returns False if either does not have a color or if the colors do not match'''\n",
    "    try:\n",
    "        return n1_attrib['color']==n2_attrib['color']\n",
    "    except KeyError:\n",
    "        return False"
   ]
  },
  {
   "cell_type": "code",
   "execution_count": 17,
   "metadata": {},
   "outputs": [],
   "source": [
    "def computeIso(arrayGraph,accessGraph):\n",
    "    Iso = iso.GraphMatcher(arrayGraph,accessGraph,node_match=colors_match)\n",
    "\n",
    "    if Iso.subgraph_is_isomorphic():\n",
    "        mapping = Iso.mapping\n",
    "        isom = {}\n",
    "\n",
    "        for v in mapping:\n",
    "            if (type(v) != tuple and type(mapping[v]) != tuple) and type(v) != str:\n",
    "                isom[mapping[v]] = v\n",
    "\n",
    "        return isom\n",
    "    \n",
    "    return None"
   ]
  },
  {
   "cell_type": "code",
   "execution_count": 18,
   "metadata": {},
   "outputs": [],
   "source": [
    "def init(q):\n",
    "    GF = galois.GF(q)\n",
    "    m = 3  # degree of polynomial\n",
    "\n",
    "    I = [GF(1), GF(0), GF(0)]  # vector of size m\n",
    "    coeff = [GF(F[q-1][0]),GF(F[q-1][1]),GF(F[q-1][2]),GF(F[q-1][3])] # coefficients of primitive polynomial (... + c2x^2 + c1x + c0)\n",
    "\n",
    "    return [GF,m,I,coeff]"
   ]
  },
  {
   "cell_type": "code",
   "execution_count": 19,
   "metadata": {},
   "outputs": [],
   "source": [
    "q = 7\n",
    "p = 6\n",
    "GF = galois.GF(q)\n",
    "\n",
    "[GF,m,I,coeff] = init(q)\n",
    "\n",
    "AS = [(1, 2),\n",
    "  (1, 3),\n",
    "  (1, 4),\n",
    "  (1, 5),\n",
    "  (1, 6),\n",
    "  (2, 3),\n",
    "  (2, 4),\n",
    "  (2, 5),\n",
    "  (2, 6),\n",
    "  (3, 4),\n",
    "  (3, 5),\n",
    "  (3, 6),\n",
    "  (4, 5),\n",
    "  (4, 6),\n",
    "  (5, 6)]\n",
    "\n",
    "[LinIndep, LinIndepArray, AccessStrLinIndep, AccessStrLinDep, accessGraph, arrayGraph] = setupAS(q, GF, m, I, coeff, AS, p)"
   ]
  },
  {
   "cell_type": "code",
   "execution_count": 20,
   "metadata": {},
   "outputs": [
    {
     "name": "stdout",
     "output_type": "stream",
     "text": [
      "CPU times: total: 172 ms\n",
      "Wall time: 185 ms\n"
     ]
    }
   ],
   "source": [
    "%%time\n",
    "isom = computeIso(arrayGraph,accessGraph)"
   ]
  },
  {
   "cell_type": "code",
   "execution_count": 21,
   "metadata": {},
   "outputs": [
    {
     "name": "stdout",
     "output_type": "stream",
     "text": [
      "{1: 1, 2: 4, 3: 52, 4: 37, 5: 14, 6: 12}\n"
     ]
    }
   ],
   "source": [
    "print(isom)"
   ]
  },
  {
   "cell_type": "code",
   "execution_count": 30,
   "metadata": {},
   "outputs": [],
   "source": [
    "q = 4\n",
    "p = 6\n",
    "GF = galois.GF(q)\n",
    "\n",
    "[GF,m,I,coeff] = init(q)\n",
    "\n",
    "AS = [(1, 2, 3),\n",
    "  (1, 2, 4),\n",
    "  (1, 2, 5),\n",
    "  (1, 2, 6),\n",
    "  (1, 3, 4),\n",
    "  (1, 3, 5),\n",
    "  (1, 3, 6),\n",
    "  (1, 4, 5),\n",
    "  (1, 4, 6),\n",
    "  (1, 5, 6)]\n",
    "[LinIndep, LinIndepArray, AccessStrLinIndep, AccessStrLinDep, accessGraph, arrayGraph] = setupAS(q, GF, m, I, coeff, AS, p)"
   ]
  },
  {
   "cell_type": "code",
   "execution_count": 31,
   "metadata": {},
   "outputs": [
    {
     "name": "stdout",
     "output_type": "stream",
     "text": [
      "CPU times: total: 1h 19min 50s\n",
      "Wall time: 1h 24min 40s\n"
     ]
    }
   ],
   "source": [
    "%%time\n",
    "isom = computeIso(arrayGraph,accessGraph)"
   ]
  },
  {
   "cell_type": "code",
   "execution_count": 27,
   "metadata": {},
   "outputs": [
    {
     "name": "stdout",
     "output_type": "stream",
     "text": [
      "{1: 1, 2: 4, 3: 14, 4: 16, 5: 9, 6: 20}\n"
     ]
    }
   ],
   "source": [
    "print(isom)"
   ]
  },
  {
   "cell_type": "code",
   "execution_count": null,
   "metadata": {},
   "outputs": [],
   "source": [
    "q = 3\n",
    "p = 5\n",
    "GF = galois.GF(q)\n",
    "\n",
    "[GF,m,I,coeff] = init(q)\n",
    "\n",
    "AS = G2\n",
    "\n",
    "[LinIndep, LinIndepArray, AccessStrLinIndep, AccessStrLinDep, accessGraph, arrayGraph] = setupAS(q, GF, m, I, coeff, AS, p)"
   ]
  },
  {
   "cell_type": "code",
   "execution_count": 21,
   "metadata": {},
   "outputs": [
    {
     "name": "stdout",
     "output_type": "stream",
     "text": [
      "CPU times: total: 3.41 s\n",
      "Wall time: 3.65 s\n"
     ]
    }
   ],
   "source": [
    "%%time\n",
    "isom = computeIso(arrayGraph,accessGraph)"
   ]
  },
  {
   "cell_type": "code",
   "execution_count": 22,
   "metadata": {},
   "outputs": [
    {
     "name": "stdout",
     "output_type": "stream",
     "text": [
      "None\n"
     ]
    }
   ],
   "source": [
    "print(isom)"
   ]
  },
  {
   "cell_type": "code",
   "execution_count": 20,
   "metadata": {},
   "outputs": [],
   "source": [
    "q = 4\n",
    "p = 5\n",
    "GF = galois.GF(q)\n",
    "\n",
    "[GF,m,I,coeff] = init(q)\n",
    "\n",
    "AS = G4\n",
    "\n",
    "[LinIndep, LinIndepArray, AccessStrLinIndep, AccessStrLinDep, accessGraph, arrayGraph] = setupLD(q, GF, m, I, coeff, AS, p)"
   ]
  },
  {
   "cell_type": "code",
   "execution_count": 21,
   "metadata": {},
   "outputs": [
    {
     "name": "stdout",
     "output_type": "stream",
     "text": [
      "CPU times: total: 3h 16min 38s\n",
      "Wall time: 3h 21min 25s\n"
     ]
    }
   ],
   "source": [
    "%%time\n",
    "\n",
    "isom = computeIso(arrayGraph,accessGraph)"
   ]
  },
  {
   "cell_type": "code",
   "execution_count": 23,
   "metadata": {},
   "outputs": [
    {
     "name": "stdout",
     "output_type": "stream",
     "text": [
      "None\n"
     ]
    }
   ],
   "source": [
    "print(isom)"
   ]
  },
  {
   "cell_type": "code",
   "execution_count": 53,
   "metadata": {},
   "outputs": [
    {
     "name": "stdout",
     "output_type": "stream",
     "text": [
      "20804 60704\n",
      "29317 87780\n"
     ]
    }
   ],
   "source": [
    "AS = G1\n",
    "q = 7\n",
    "p = 5\n",
    "GF = galois.GF(q)\n",
    "\n",
    "[GF,m,I,coeff] = init(q)\n",
    "\n",
    "[LinIndep, LinIndepArray, AccessStrLinIndep, AccessStrLinDep, accessGraphAS, arrayGraphAS] = setupAS(q, GF, m, I, coeff, AS, p)\n",
    "[LinIndep, LinIndepArray, AccessStrLinIndep, AccessStrLinDep, accessGraphLD, arrayGraphLD] = setupLD(q, GF, m, I, coeff, AS, p)\n",
    "\n",
    "print(len(arrayGraphAS.nodes), len(arrayGraphAS.edges))\n",
    "print(len(arrayGraphLD.nodes), len(arrayGraphLD.edges))"
   ]
  }
 ],
 "metadata": {
  "kernelspec": {
   "display_name": "Python 3",
   "language": "python",
   "name": "python3"
  },
  "language_info": {
   "codemirror_mode": {
    "name": "ipython",
    "version": 3
   },
   "file_extension": ".py",
   "mimetype": "text/x-python",
   "name": "python",
   "nbconvert_exporter": "python",
   "pygments_lexer": "ipython3",
   "version": "3.12.0"
  }
 },
 "nbformat": 4,
 "nbformat_minor": 2
}
