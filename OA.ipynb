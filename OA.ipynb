{
 "cells": [
  {
   "cell_type": "code",
   "execution_count": 2,
   "metadata": {},
   "outputs": [],
   "source": [
    "import numpy as np\n",
    "import galois\n",
    "import numpy.linalg as linalg"
   ]
  },
  {
   "cell_type": "code",
   "execution_count": 59,
   "metadata": {},
   "outputs": [],
   "source": [
    "def shamir_OA(v,k,t):\n",
    "    A = np.zeros((v**t,k))\n",
    "\n",
    "    participants = np.array([0,1,2])\n",
    "\n",
    "    coeff = np.zeros(t)\n",
    "    coeff[0] = 1\n",
    "\n",
    "    i = 0\n",
    "    while i < t:\n",
    "        if coeff[t-1-i] < v-1:\n",
    "            coeff[t-1-i] = coeff[t-1-i] + 1\n",
    "        else:\n",
    "            i = i + 1\n",
    "\n",
    "    return A"
   ]
  },
  {
   "cell_type": "code",
   "execution_count": 16,
   "metadata": {},
   "outputs": [],
   "source": [
    "A = np.zeros((9,4))\n",
    "polys = []\n",
    "\n",
    "p = [0,1,2]"
   ]
  },
  {
   "cell_type": "code",
   "execution_count": 17,
   "metadata": {},
   "outputs": [
    {
     "data": {
      "text/plain": [
       "array([[0., 0., 0., 0.],\n",
       "       [0., 1., 2., 0.],\n",
       "       [0., 2., 1., 0.],\n",
       "       [1., 1., 1., 1.],\n",
       "       [1., 2., 0., 1.],\n",
       "       [1., 0., 2., 1.],\n",
       "       [2., 2., 2., 2.],\n",
       "       [2., 0., 1., 2.],\n",
       "       [2., 1., 0., 2.]])"
      ]
     },
     "execution_count": 17,
     "metadata": {},
     "output_type": "execute_result"
    }
   ],
   "source": [
    "i = 0\n",
    "\n",
    "\n",
    "for b in range(3):\n",
    "    for a in range(3):\n",
    "        A[i,3] = b\n",
    "        polys.append(\"$\" + str(b) + \" + \" + str(a) + \"x$\")\n",
    "        \n",
    "        for j in range(3):\n",
    "            A[i,j] = (b + a*p[j])%3\n",
    "\n",
    "        i = i + 1\n",
    "\n",
    "A"
   ]
  },
  {
   "cell_type": "code",
   "execution_count": 13,
   "metadata": {},
   "outputs": [],
   "source": [
    "# got this from stack exchange\n",
    "def bmatrix(a):\n",
    "    \"\"\"Returns a LaTeX bmatrix\n",
    "\n",
    "    :a: numpy array\n",
    "    :returns: LaTeX bmatrix as a string\n",
    "    \"\"\"\n",
    "    if len(a.shape) > 2:\n",
    "        raise ValueError('bmatrix can at most display two dimensions')\n",
    "    lines = np.array2string(a, max_line_width=np.infty).replace('[', '').replace(']', '').splitlines()\n",
    "    rv = [r'\\begin{bmatrix}']\n",
    "    rv += ['  ' + ' & '.join(l.split()) + r' \\\\' for l in lines]\n",
    "    rv +=  [r'\\end{bmatrix}']\n",
    "    return '\\n'.join(rv)"
   ]
  },
  {
   "cell_type": "code",
   "execution_count": 14,
   "metadata": {},
   "outputs": [
    {
     "name": "stdout",
     "output_type": "stream",
     "text": [
      "\\begin{bmatrix}\n",
      "  0. & 0. & 0. & 0. \\\\\n",
      "  0. & 1. & 2. & 0. \\\\\n",
      "  0. & 2. & 1. & 0. \\\\\n",
      "  1. & 1. & 1. & 1. \\\\\n",
      "  1. & 2. & 0. & 1. \\\\\n",
      "  1. & 0. & 2. & 1. \\\\\n",
      "  2. & 2. & 2. & 2. \\\\\n",
      "  2. & 0. & 1. & 2. \\\\\n",
      "  2. & 1. & 0. & 2. \\\\\n",
      "\\end{bmatrix}\n"
     ]
    }
   ],
   "source": [
    "print(bmatrix(A))"
   ]
  },
  {
   "cell_type": "code",
   "execution_count": 18,
   "metadata": {},
   "outputs": [
    {
     "data": {
      "text/plain": [
       "['$0 + 0x$',\n",
       " '$0 + 1x$',\n",
       " '$0 + 2x$',\n",
       " '$1 + 0x$',\n",
       " '$1 + 1x$',\n",
       " '$1 + 2x$',\n",
       " '$2 + 0x$',\n",
       " '$2 + 1x$',\n",
       " '$2 + 2x$']"
      ]
     },
     "execution_count": 18,
     "metadata": {},
     "output_type": "execute_result"
    }
   ],
   "source": [
    "polys"
   ]
  }
 ],
 "metadata": {
  "kernelspec": {
   "display_name": "Python 3",
   "language": "python",
   "name": "python3"
  },
  "language_info": {
   "codemirror_mode": {
    "name": "ipython",
    "version": 3
   },
   "file_extension": ".py",
   "mimetype": "text/x-python",
   "name": "python",
   "nbconvert_exporter": "python",
   "pygments_lexer": "ipython3",
   "version": "3.12.0"
  }
 },
 "nbformat": 4,
 "nbformat_minor": 2
}
