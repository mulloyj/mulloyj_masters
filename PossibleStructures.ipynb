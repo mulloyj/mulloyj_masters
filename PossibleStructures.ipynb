{
 "cells": [
  {
   "cell_type": "code",
   "execution_count": 1,
   "metadata": {},
   "outputs": [],
   "source": [
    "import numpy as np\n",
    "from itertools import chain, combinations\n",
    "import sys\n",
    "import networkx as nx\n",
    "\n",
    "np.set_printoptions(threshold=sys.maxsize)"
   ]
  },
  {
   "cell_type": "code",
   "execution_count": 2,
   "metadata": {},
   "outputs": [],
   "source": [
    "def powerset(iterable):\n",
    "    \"powerset([1,2,3]) → () (1,) (2,) (3,) (1,2) (1,3) (2,3) (1,2,3)\"\n",
    "    s = list(iterable)\n",
    "    return chain.from_iterable(combinations(s, r) for r in range(len(s)+1))"
   ]
  },
  {
   "cell_type": "code",
   "execution_count": 3,
   "metadata": {},
   "outputs": [],
   "source": [
    "def splitStructure(structure):\n",
    "    twos = []\n",
    "    threes = []\n",
    "    for auth in structure:\n",
    "        if len(auth) == 2:\n",
    "            twos.append(auth)\n",
    "        else:\n",
    "            threes.append(auth)\n",
    "\n",
    "    return twos,threes"
   ]
  },
  {
   "cell_type": "code",
   "execution_count": 4,
   "metadata": {},
   "outputs": [],
   "source": [
    "def flatten(lst):\n",
    "    l = []\n",
    "    for elt in lst:\n",
    "        t = type(elt)\n",
    "        if t is tuple or t is list:\n",
    "            for elt2 in flatten(elt):\n",
    "                l.append(elt2)\n",
    "        else:\n",
    "            l.append(elt)\n",
    "    return sorted(set(l))"
   ]
  },
  {
   "cell_type": "code",
   "execution_count": 5,
   "metadata": {},
   "outputs": [],
   "source": [
    "def isAuth(P,structure):\n",
    "    for minAuth in structure:\n",
    "        if set(minAuth).issubset(set(P)):\n",
    "            return True\n",
    "    return False"
   ]
  },
  {
   "cell_type": "code",
   "execution_count": 6,
   "metadata": {},
   "outputs": [],
   "source": [
    "def buildD1(structure, p):\n",
    "    P = list(range(1,p+1))\n",
    "    D1 = list(powerset(P))\n",
    "\n",
    "    for subset in D1[:]:\n",
    "        if isAuth(subset,structure) or len(subset) == 0:\n",
    "            D1.remove(subset)\n",
    "\n",
    "    for unauth in D1[:]:\n",
    "        for set2 in D1:\n",
    "            if set2 != unauth and set(unauth).issubset(set(set2)):\n",
    "                D1.remove(unauth)\n",
    "                break\n",
    "        else:\n",
    "            continue\n",
    "    return D1"
   ]
  },
  {
   "cell_type": "code",
   "execution_count": 7,
   "metadata": {},
   "outputs": [],
   "source": [
    "def NEW_buildD1(structure, p):\n",
    "    twos, threes = splitStructure(structure)\n",
    "\n",
    "    P = flatten(structure)\n",
    "\n",
    "    G = nx.Graph()\n",
    "    G = nx.Graph()\n",
    "    G.add_nodes_from(P)\n",
    "    G.add_edges_from(twos)\n",
    "    G_complement = nx.complement(G)\n",
    "\n",
    "    D1 = list(nx.find_cliques(G_complement))\n",
    "\n",
    "    for auth in threes:\n",
    "        for IS in D1[:]:\n",
    "            if set(auth).issubset(set(IS)):\n",
    "                D1.remove(IS)\n",
    "\n",
    "    return D1\n",
    "\n"
   ]
  },
  {
   "cell_type": "code",
   "execution_count": 8,
   "metadata": {},
   "outputs": [],
   "source": [
    "def checkD1(D1):\n",
    "    for [P1,P2] in combinations(D1,2):\n",
    "        if len(set(P1) & set(P2)) > 1:\n",
    "            return False\n",
    "    return True"
   ]
  },
  {
   "cell_type": "code",
   "execution_count": 9,
   "metadata": {},
   "outputs": [],
   "source": [
    "def listIntersection(lst1,lst2):\n",
    "    return set([tuple(sorted(ele)) for ele in lst1]) & set([tuple(sorted(ele)) for ele in lst2])"
   ]
  },
  {
   "cell_type": "code",
   "execution_count": 10,
   "metadata": {},
   "outputs": [],
   "source": [
    "def findFailingD1(D1):\n",
    "    fail = set()\n",
    "    for [P1,P2] in combinations(D1,2):\n",
    "        if len(set(P1) & set(P2)) > 1:\n",
    "            fail.add(tuple(set(P1) & set(P2)))\n",
    "    return sorted(list(fail))"
   ]
  },
  {
   "cell_type": "code",
   "execution_count": 11,
   "metadata": {},
   "outputs": [],
   "source": [
    "def buildD2(structure):\n",
    "    D2 = []\n",
    "\n",
    "    for P in structure:\n",
    "        if len(P) == 2:\n",
    "            D2.append(P)\n",
    "\n",
    "    P = flatten(D2)\n",
    "\n",
    "    G = nx.Graph()\n",
    "    G.add_nodes_from(P)\n",
    "    G.add_edges_from(D2)\n",
    "\n",
    "    return list(nx.find_cliques(G))"
   ]
  },
  {
   "cell_type": "code",
   "execution_count": 12,
   "metadata": {},
   "outputs": [],
   "source": [
    "def checkD2(D2):\n",
    "    for [P1,P2] in combinations(D2,2):\n",
    "        if len(set(P1) & set(P2)) > 0:\n",
    "            return False\n",
    "    return True"
   ]
  },
  {
   "cell_type": "code",
   "execution_count": 13,
   "metadata": {},
   "outputs": [],
   "source": [
    "def checkCondtions(structure, p):\n",
    "    D1 = buildD1(structure,p)\n",
    "    D2 = buildD2(structure)\n",
    "\n",
    "    if checkD1(D1) and checkD2(D2):\n",
    "        return True\n",
    "    \n",
    "    return False"
   ]
  },
  {
   "cell_type": "code",
   "execution_count": 14,
   "metadata": {},
   "outputs": [],
   "source": [
    "def buildT2rec(sp,p,l):\n",
    "    T2 = []\n",
    "\n",
    "    if p - sp < 1 or l < 2 or sp + l > p + 1:\n",
    "        return T2\n",
    "    \n",
    "    structure = list(combinations(list(range(sp,sp+l)),2))\n",
    "    start = 2\n",
    "    for nl in range(start,l+1):\n",
    "        recur = buildT2rec(sp+l,p,nl)\n",
    "        if len(recur) > 0:\n",
    "            for smaller in recur:\n",
    "                temp = structure[:]\n",
    "                for P in smaller:\n",
    "                    temp.append(P)\n",
    "                T2.append(temp)    \n",
    "    T2.append(structure)\n",
    "\n",
    "    return T2"
   ]
  },
  {
   "cell_type": "code",
   "execution_count": 15,
   "metadata": {},
   "outputs": [],
   "source": [
    "def buildT2(p):\n",
    "    T2 = []\n",
    "    for l in range(2,p+1):\n",
    "        T2a = buildT2rec(1,p,l)\n",
    "        for elt in T2a:\n",
    "            if elt not in T2:\n",
    "                T2.append(elt)\n",
    "    T2.append([])\n",
    "    return T2"
   ]
  },
  {
   "cell_type": "code",
   "execution_count": 16,
   "metadata": {},
   "outputs": [],
   "source": [
    "def noSubset(P,pairs):\n",
    "    for pair in pairs:\n",
    "        if set(pair).issubset(P):\n",
    "            return False\n",
    "    return True"
   ]
  },
  {
   "cell_type": "code",
   "execution_count": 17,
   "metadata": {},
   "outputs": [],
   "source": [
    "def fixD1(structure,p):\n",
    "    removedSets= []\n",
    "    if len(structure) == 0 and p > 2:\n",
    "        structure.append((1,2,3))\n",
    "\n",
    "    D1 = buildD1(structure,p)\n",
    "\n",
    "    while not checkD1(D1):\n",
    "        removedSet = False\n",
    "        failing = findFailingD1(D1)\n",
    "        for P in D1:\n",
    "            for fail in failing:\n",
    "                if set(fail).issubset(set(P)) and noSubset(P,removedSets):\n",
    "                    if len(P) > 3:\n",
    "                        structure.append((P[0],P[1],P[2]))\n",
    "                    else:\n",
    "                        structure.append(P)\n",
    "                    removedSets = removedSets + list(combinations(P,2))\n",
    "                    removedSet = True\n",
    "                    break\n",
    "            else:\n",
    "                continue\n",
    "        if removedSet:\n",
    "            D1 = buildD1(structure,p)\n",
    "        else:\n",
    "            removedSets = []\n",
    "\n",
    "    return structure"
   ]
  },
  {
   "cell_type": "code",
   "execution_count": 18,
   "metadata": {},
   "outputs": [],
   "source": [
    "AccessStr = [(1,2),(3,4),(5,6),(1,3,5),(1,4,6),(2,3,6),(2,4,5)]\n",
    "# AccessStr = [(1,2),(3,4),(5,6)]\n",
    "# AccessStr = [(1,2),(3,4)] # Works with q=4?\n",
    "# AccessStr = [(1,2),(2,3),(1,3),(3,4,5),(2,4,5)]\n",
    "# AccessStr = [(1, 2), (3, 4), (1, 3, 5), (2, 4, 5)] # q = 5?\n",
    "# AccessStr = [(1, 2, 3)]\n",
    "# AccessStr = [(1, 2, 3), (4, 5)]\n",
    "# AccessStr = [(1,2),(3,4),(1,2,3),(1,2,4),(1,3,4),(2,3,4)]\n",
    "# AccessStr = [(1,2,3),(1,5,7),(1,6,8),(2,4,7),(2,6,9),(3,4,8),(3,5,9),(4,5,6)]\n",
    "# AccessStr = [(1,2),(2,3),(3,4)]\n",
    "\n",
    "p = 6"
   ]
  },
  {
   "cell_type": "code",
   "execution_count": 19,
   "metadata": {},
   "outputs": [
    {
     "data": {
      "text/plain": [
       "[[1, 3, 6], [1, 4, 5], [2, 3, 5], [2, 4, 6]]"
      ]
     },
     "execution_count": 19,
     "metadata": {},
     "output_type": "execute_result"
    }
   ],
   "source": [
    "list(NEW_buildD1(AccessStr,p))"
   ]
  },
  {
   "cell_type": "code",
   "execution_count": 20,
   "metadata": {},
   "outputs": [
    {
     "data": {
      "text/plain": [
       "[(1, 2), (3, 4), (5, 6), (1, 3, 5), (1, 4, 6), (2, 3, 6), (2, 4, 5)]"
      ]
     },
     "execution_count": 20,
     "metadata": {},
     "output_type": "execute_result"
    }
   ],
   "source": [
    "fixD1(AccessStr,p)"
   ]
  },
  {
   "cell_type": "code",
   "execution_count": 21,
   "metadata": {},
   "outputs": [],
   "source": [
    "def findRealizable(p):\n",
    "    real = []\n",
    " \n",
    "    for structure in buildT2(p):\n",
    "        D1 = NEW_buildD1(structure,p)\n",
    "        real.append(fixD1(structure,p))\n",
    "    \n",
    "    return real\n"
   ]
  },
  {
   "cell_type": "code",
   "execution_count": 22,
   "metadata": {},
   "outputs": [
    {
     "data": {
      "text/plain": [
       "[(1, 3, 6), (1, 4, 5), (2, 3, 5), (2, 4, 6)]"
      ]
     },
     "execution_count": 22,
     "metadata": {},
     "output_type": "execute_result"
    }
   ],
   "source": [
    "buildD1(AccessStr,6)"
   ]
  },
  {
   "cell_type": "code",
   "execution_count": 23,
   "metadata": {},
   "outputs": [
    {
     "data": {
      "text/plain": [
       "[[(1, 2), (3, 4)],\n",
       " [(1, 2), (1, 3, 4)],\n",
       " [(1, 2), (1, 3), (2, 3)],\n",
       " [(1, 2), (1, 3), (1, 4), (2, 3), (2, 4), (3, 4)],\n",
       " [(1, 2, 3), (1, 2, 4), (1, 3, 4)]]"
      ]
     },
     "execution_count": 23,
     "metadata": {},
     "output_type": "execute_result"
    }
   ],
   "source": [
    "findRealizable(4)"
   ]
  },
  {
   "cell_type": "code",
   "execution_count": 24,
   "metadata": {},
   "outputs": [
    {
     "data": {
      "text/plain": [
       "[[(1, 2), (3, 4), (1, 3, 5), (2, 4, 5)],\n",
       " [(1, 2), (1, 3, 4), (1, 3, 5), (1, 4, 5)],\n",
       " [(1, 2), (1, 3), (2, 3), (4, 5)],\n",
       " [(1, 2), (1, 3), (2, 3), (1, 4, 5), (2, 4, 5)],\n",
       " [(1, 2), (1, 3), (1, 4), (2, 3), (2, 4), (3, 4)],\n",
       " [(1, 2),\n",
       "  (1, 3),\n",
       "  (1, 4),\n",
       "  (1, 5),\n",
       "  (2, 3),\n",
       "  (2, 4),\n",
       "  (2, 5),\n",
       "  (3, 4),\n",
       "  (3, 5),\n",
       "  (4, 5)],\n",
       " [(1, 2, 3), (1, 2, 4), (1, 2, 5), (1, 3, 4), (1, 3, 5), (1, 4, 5)]]"
      ]
     },
     "execution_count": 24,
     "metadata": {},
     "output_type": "execute_result"
    }
   ],
   "source": [
    "findRealizable(5)"
   ]
  },
  {
   "cell_type": "code",
   "execution_count": null,
   "metadata": {},
   "outputs": [
    {
     "data": {
      "text/plain": [
       "[[(1, 2), (3, 4), (5, 6), (1, 3, 5), (1, 4, 6), (2, 3, 6), (2, 4, 5)],\n",
       " [(1, 2),\n",
       "  (3, 4),\n",
       "  (1, 3, 5),\n",
       "  (1, 3, 6),\n",
       "  (2, 4, 5),\n",
       "  (2, 4, 6),\n",
       "  (1, 4, 5),\n",
       "  (1, 4, 6),\n",
       "  (2, 3, 5),\n",
       "  (1, 5, 6),\n",
       "  (2, 3, 6),\n",
       "  (2, 5, 6),\n",
       "  (3, 5, 6)],\n",
       " [(1, 2), (1, 3, 4), (1, 3, 5), (1, 3, 6), (1, 4, 5), (1, 4, 6), (1, 5, 6)],\n",
       " [(1, 2),\n",
       "  (1, 3),\n",
       "  (2, 3),\n",
       "  (4, 5),\n",
       "  (1, 4, 6),\n",
       "  (2, 5, 6),\n",
       "  (1, 5, 6),\n",
       "  (2, 4, 6),\n",
       "  (3, 4, 6)],\n",
       " [(1, 2), (1, 3), (2, 3), (4, 5), (4, 6), (5, 6)],\n",
       " [(1, 2),\n",
       "  (1, 3),\n",
       "  (2, 3),\n",
       "  (1, 4, 5),\n",
       "  (1, 4, 6),\n",
       "  (1, 5, 6),\n",
       "  (2, 4, 5),\n",
       "  (2, 4, 6),\n",
       "  (2, 5, 6)],\n",
       " [(1, 2), (1, 3), (1, 4), (2, 3), (2, 4), (3, 4), (5, 6)],\n",
       " [(1, 2),\n",
       "  (1, 3),\n",
       "  (1, 4),\n",
       "  (2, 3),\n",
       "  (2, 4),\n",
       "  (3, 4),\n",
       "  (1, 5, 6),\n",
       "  (2, 5, 6),\n",
       "  (3, 5, 6)],\n",
       " [(1, 2),\n",
       "  (1, 3),\n",
       "  (1, 4),\n",
       "  (1, 5),\n",
       "  (2, 3),\n",
       "  (2, 4),\n",
       "  (2, 5),\n",
       "  (3, 4),\n",
       "  (3, 5),\n",
       "  (4, 5)],\n",
       " [(1, 2),\n",
       "  (1, 3),\n",
       "  (1, 4),\n",
       "  (1, 5),\n",
       "  (1, 6),\n",
       "  (2, 3),\n",
       "  (2, 4),\n",
       "  (2, 5),\n",
       "  (2, 6),\n",
       "  (3, 4),\n",
       "  (3, 5),\n",
       "  (3, 6),\n",
       "  (4, 5),\n",
       "  (4, 6),\n",
       "  (5, 6)],\n",
       " [(1, 2, 3),\n",
       "  (1, 2, 4),\n",
       "  (1, 2, 5),\n",
       "  (1, 2, 6),\n",
       "  (1, 3, 4),\n",
       "  (1, 3, 5),\n",
       "  (1, 3, 6),\n",
       "  (1, 4, 5),\n",
       "  (1, 4, 6),\n",
       "  (1, 5, 6)]]"
      ]
     },
     "execution_count": 25,
     "metadata": {},
     "output_type": "execute_result"
    }
   ],
   "source": [
    "findRealizable(6)"
   ]
  },
  {
   "cell_type": "code",
   "execution_count": 26,
   "metadata": {},
   "outputs": [],
   "source": [
    "AccessStr = [(1,2,3),(1, 2, 4), (1, 2, 5), (1, 3, 4), (1, 3, 5),(2,3,5),(2,4,5),(3,4,5)]"
   ]
  },
  {
   "cell_type": "code",
   "execution_count": 27,
   "metadata": {},
   "outputs": [],
   "source": [
    "# got this from stack exchange\n",
    "def bmatrix(a):\n",
    "    \"\"\"Returns a LaTeX bmatrix\n",
    "\n",
    "    :a: numpy array\n",
    "    :returns: LaTeX bmatrix as a string\n",
    "    \"\"\"\n",
    "    if len(a.shape) > 2:\n",
    "        raise ValueError('bmatrix can at most display two dimensions')\n",
    "    lines = np.array2string(a, max_line_width=np.infty).replace('[', '').replace(']', '').splitlines()\n",
    "    rv = [r'\\begin{bmatrix}']\n",
    "    rv += ['  ' + ' & '.join(l.split()) + r' \\\\' for l in lines]\n",
    "    rv +=  [r'\\end{bmatrix}']\n",
    "    return '\\n'.join(rv)"
   ]
  },
  {
   "cell_type": "code",
   "execution_count": 28,
   "metadata": {},
   "outputs": [],
   "source": [
    "def toString(minQ):\n",
    "    if len(minQ) == 0:\n",
    "        return ' '\n",
    "    counter = 0\n",
    "    sets = '$'\n",
    "    for qual in minQ:\n",
    "        sets += r'\\{'\n",
    "        for elt in qual:\n",
    "            sets += 'p_' + str(elt) + ','\n",
    "        sets = sets[:-1] + r'\\},'\n",
    "        counter += 1\n",
    "\n",
    "    return sets[:-1]+'$'"
   ]
  },
  {
   "cell_type": "code",
   "execution_count": 29,
   "metadata": {},
   "outputs": [],
   "source": [
    "def makeTable(meetConditions):\n",
    "    table = []\n",
    "    for structure in meetConditions:\n",
    "        size2 = []\n",
    "        size3 = []\n",
    "        for minQ in structure:\n",
    "            if len(minQ) == 2:\n",
    "                size2.append(minQ)\n",
    "            if len(minQ) == 3:\n",
    "                size3.append(minQ)\n",
    "        table += [' ' + ', '.join(toString(size2).split()) + ' & ' + ', '.join(toString(size3).split()) + r' &  \\\\ \\hline'] \n",
    "\n",
    "    return '\\n'.join(table)"
   ]
  },
  {
   "cell_type": "code",
   "execution_count": 30,
   "metadata": {},
   "outputs": [],
   "source": [
    "def newFindD1(structure: list, D1: list, A: list):\n",
    "    p = max(flatten(structure))\n",
    "\n",
    "    if isAuth(A,structure):\n",
    "        A.remove(max(A))\n",
    "\n",
    "        for x in (x for x in range(1,p+1) if x not in A):\n",
    "            if not isAuth(A+[x],structure):\n",
    "                return D1\n",
    "            \n",
    "        if A not in D1:\n",
    "            return D1+[A]\n",
    "        else:\n",
    "            return D1\n",
    "        \n",
    "    if p in A:\n",
    "        for x in (x for x in range(1,p+1) if x not in A):\n",
    "            if not isAuth(A+[x],structure):\n",
    "                return D1\n",
    "            \n",
    "        if A not in D1:\n",
    "            return D1+[A]\n",
    "        else:\n",
    "            return D1\n",
    "\n",
    "    if len(A) == 0:\n",
    "        for x in range(1,p+1):\n",
    "            D1 = newFindD1(structure,D1,A+[x])\n",
    "    else:\n",
    "        for x in (x for x in range(1,p+1) if x > max(A)):\n",
    "            D1 = newFindD1(structure,D1,A+[x])\n",
    "\n",
    "    return D1"
   ]
  },
  {
   "cell_type": "code",
   "execution_count": 31,
   "metadata": {},
   "outputs": [],
   "source": [
    "def newFindD1(structure: list, A: list, D1: list):\n",
    "    flag = True\n",
    "    n = max(flatten(structure))\n",
    "    if len(A) == 0:\n",
    "        max_p = 0\n",
    "    else:\n",
    "        max_p = max(A)\n",
    "\n",
    "    for x in range(max_p+1,n+1):\n",
    "        if not isAuth(A + [x], structure):\n",
    "            D1 = newFindD1(structure, A + [x], D1)\n",
    "            flag = False\n",
    "\n",
    "    if flag:\n",
    "        for x in [val for val in range(1,max_p+1) if val not in A]:\n",
    "            if not isAuth(A + [x], structure):\n",
    "                return D1\n",
    "        \n",
    "        D1 = D1 + [A]\n",
    "\n",
    "    return D1"
   ]
  },
  {
   "cell_type": "code",
   "execution_count": 32,
   "metadata": {},
   "outputs": [
    {
     "data": {
      "text/plain": [
       "[[(1, 2), (3, 4), (5, 6), (1, 3, 5), (1, 4, 6), (2, 3, 6), (2, 4, 5)],\n",
       " [(1, 2),\n",
       "  (3, 4),\n",
       "  (1, 3, 5),\n",
       "  (1, 3, 6),\n",
       "  (2, 4, 5),\n",
       "  (2, 4, 6),\n",
       "  (1, 4, 5),\n",
       "  (1, 4, 6),\n",
       "  (2, 3, 5),\n",
       "  (1, 5, 6),\n",
       "  (2, 3, 6),\n",
       "  (2, 5, 6),\n",
       "  (3, 5, 6)],\n",
       " [(1, 2), (1, 3, 4), (1, 3, 5), (1, 3, 6), (1, 4, 5), (1, 4, 6), (1, 5, 6)],\n",
       " [(1, 2),\n",
       "  (1, 3),\n",
       "  (2, 3),\n",
       "  (4, 5),\n",
       "  (1, 4, 6),\n",
       "  (2, 5, 6),\n",
       "  (1, 5, 6),\n",
       "  (2, 4, 6),\n",
       "  (3, 4, 6)],\n",
       " [(1, 2), (1, 3), (2, 3), (4, 5), (4, 6), (5, 6)],\n",
       " [(1, 2),\n",
       "  (1, 3),\n",
       "  (2, 3),\n",
       "  (1, 4, 5),\n",
       "  (1, 4, 6),\n",
       "  (1, 5, 6),\n",
       "  (2, 4, 5),\n",
       "  (2, 4, 6),\n",
       "  (2, 5, 6)],\n",
       " [(1, 2), (1, 3), (1, 4), (2, 3), (2, 4), (3, 4), (5, 6)],\n",
       " [(1, 2),\n",
       "  (1, 3),\n",
       "  (1, 4),\n",
       "  (2, 3),\n",
       "  (2, 4),\n",
       "  (3, 4),\n",
       "  (1, 5, 6),\n",
       "  (2, 5, 6),\n",
       "  (3, 5, 6)],\n",
       " [(1, 2),\n",
       "  (1, 3),\n",
       "  (1, 4),\n",
       "  (1, 5),\n",
       "  (2, 3),\n",
       "  (2, 4),\n",
       "  (2, 5),\n",
       "  (3, 4),\n",
       "  (3, 5),\n",
       "  (4, 5)],\n",
       " [(1, 2),\n",
       "  (1, 3),\n",
       "  (1, 4),\n",
       "  (1, 5),\n",
       "  (1, 6),\n",
       "  (2, 3),\n",
       "  (2, 4),\n",
       "  (2, 5),\n",
       "  (2, 6),\n",
       "  (3, 4),\n",
       "  (3, 5),\n",
       "  (3, 6),\n",
       "  (4, 5),\n",
       "  (4, 6),\n",
       "  (5, 6)],\n",
       " [(1, 2, 3),\n",
       "  (1, 2, 4),\n",
       "  (1, 2, 5),\n",
       "  (1, 2, 6),\n",
       "  (1, 3, 4),\n",
       "  (1, 3, 5),\n",
       "  (1, 3, 6),\n",
       "  (1, 4, 5),\n",
       "  (1, 4, 6),\n",
       "  (1, 5, 6)]]"
      ]
     },
     "execution_count": 32,
     "metadata": {},
     "output_type": "execute_result"
    }
   ],
   "source": [
    "findRealizable(6)"
   ]
  },
  {
   "cell_type": "code",
   "execution_count": 55,
   "metadata": {},
   "outputs": [
    {
     "data": {
      "text/plain": [
       "[[1, 2, 3],\n",
       " [1, 4],\n",
       " [1, 5],\n",
       " [1, 6],\n",
       " [2, 4],\n",
       " [2, 5],\n",
       " [2, 6],\n",
       " [3, 4],\n",
       " [3, 5],\n",
       " [3, 6],\n",
       " [4, 5, 6]]"
      ]
     },
     "execution_count": 55,
     "metadata": {},
     "output_type": "execute_result"
    }
   ],
   "source": [
    "newFindD1([\n",
    " (1, 2, 4),\n",
    " (1, 2, 5),\n",
    " (1, 2, 6),\n",
    " (1, 3, 4),\n",
    " (1, 3, 5),\n",
    " (1, 3, 6),\n",
    " (1, 4, 5),\n",
    " (1, 4, 6),\n",
    " (1,5,6),\n",
    " (2,3,4),\n",
    " (2, 3, 5),\n",
    " (2, 3, 6),\n",
    " (2, 4, 5),\n",
    " (2, 4, 6),\n",
    " (2, 5, 6),\n",
    " (3, 4, 5),\n",
    " (3, 4, 6),\n",
    " (3, 5, 6),\n",
    " ],[],[])"
   ]
  },
  {
   "cell_type": "code",
   "execution_count": 71,
   "metadata": {},
   "outputs": [
    {
     "data": {
      "text/plain": [
       "[[1, 4], [1, 5], [1, 6], [2, 4], [2, 5], [2, 6], [3, 4], [3, 5, 6], [4, 6]]"
      ]
     },
     "execution_count": 71,
     "metadata": {},
     "output_type": "execute_result"
    }
   ],
   "source": [
    "newFindD1([(1, 2),\n",
    "  (1, 3),\n",
    "  (2, 3),\n",
    "  (4, 5),\n",
    "  (1, 4, 6),\n",
    "  (2, 5, 6),\n",
    "  (1, 5, 6),\n",
    "  (2, 4, 6),\n",
    "  (3, 4, 6)],[],[])"
   ]
  },
  {
   "cell_type": "code",
   "execution_count": 43,
   "metadata": {},
   "outputs": [
    {
     "data": {
      "text/plain": [
       "True"
      ]
     },
     "execution_count": 43,
     "metadata": {},
     "output_type": "execute_result"
    }
   ],
   "source": [
    "checkD1([[1, 4], [1, 5, 6], [2, 4, 5], [2, 6], [3, 4, 6], [3, 5]])"
   ]
  },
  {
   "cell_type": "code",
   "execution_count": 49,
   "metadata": {},
   "outputs": [
    {
     "data": {
      "text/plain": [
       "[(1, 2, 3),\n",
       " (1, 2, 4),\n",
       " (1, 2, 5),\n",
       " (1, 2, 6),\n",
       " (1, 3, 4),\n",
       " (1, 3, 5),\n",
       " (1, 3, 6),\n",
       " (1, 4, 5),\n",
       " (1, 4, 6),\n",
       " (1, 5, 6),\n",
       " (2, 3, 4),\n",
       " (2, 3, 5),\n",
       " (2, 3, 6),\n",
       " (2, 4, 5),\n",
       " (2, 4, 6),\n",
       " (2, 5, 6),\n",
       " (3, 4, 5),\n",
       " (3, 4, 6),\n",
       " (3, 5, 6),\n",
       " (4, 5, 6)]"
      ]
     },
     "execution_count": 49,
     "metadata": {},
     "output_type": "execute_result"
    }
   ],
   "source": [
    "arr = []\n",
    "\n",
    "for comb in combinations(list(range(1,7)),3):\n",
    "    arr.append(comb)\n",
    "\n",
    "arr"
   ]
  },
  {
   "cell_type": "code",
   "execution_count": 70,
   "metadata": {},
   "outputs": [],
   "source": [
    "def createD2Graph(structure):\n",
    "    D2 = []\n",
    "\n",
    "    for P in structure:\n",
    "        if len(P) == 2:\n",
    "            D2.append(P)\n",
    "\n",
    "    P = flatten(D2)\n",
    "\n",
    "    G = nx.Graph()\n",
    "    G.add_nodes_from(P)\n",
    "    G.add_edges_from(D2)\n",
    "\n",
    "    return G"
   ]
  },
  {
   "cell_type": "code",
   "execution_count": 76,
   "metadata": {},
   "outputs": [],
   "source": [
    "graph = createD2Graph([(1,2),(2,3),(3,4),(1,3,5),(2,4,5)])"
   ]
  },
  {
   "cell_type": "code",
   "execution_count": 74,
   "metadata": {},
   "outputs": [],
   "source": [
    "def newCheckD2(D2graph: nx.Graph):\n",
    "    visited = []\n",
    "\n",
    "    for node in D2graph.nodes:\n",
    "        if node not in visited:\n",
    "            componentNodes = 0\n",
    "            edgeCount = 0\n",
    "            stack = []\n",
    "            stack.append(node)\n",
    "\n",
    "            while len(stack) > 0:\n",
    "                current = stack.pop()\n",
    "                if current not in visited:\n",
    "                    visited.append(current)\n",
    "                    componentNodes += 1\n",
    "                    for neighbour in D2graph.neighbors(current):\n",
    "                        edgeCount += 1\n",
    "                        if neighbour not in visited:\n",
    "                            stack.append(neighbour)\n",
    "            \n",
    "            expectedEdges = componentNodes * (componentNodes - 1) / 2\n",
    "\n",
    "            if expectedEdges != edgeCount / 2:\n",
    "                return False\n",
    "\n",
    "    return True"
   ]
  },
  {
   "cell_type": "code",
   "execution_count": 77,
   "metadata": {},
   "outputs": [
    {
     "data": {
      "text/plain": [
       "False"
      ]
     },
     "execution_count": 77,
     "metadata": {},
     "output_type": "execute_result"
    }
   ],
   "source": [
    "newCheckD2(graph)"
   ]
  }
 ],
 "metadata": {
  "kernelspec": {
   "display_name": "Python 3",
   "language": "python",
   "name": "python3"
  },
  "language_info": {
   "codemirror_mode": {
    "name": "ipython",
    "version": 3
   },
   "file_extension": ".py",
   "mimetype": "text/x-python",
   "name": "python",
   "nbconvert_exporter": "python",
   "pygments_lexer": "ipython3",
   "version": "3.12.0"
  }
 },
 "nbformat": 4,
 "nbformat_minor": 2
}
